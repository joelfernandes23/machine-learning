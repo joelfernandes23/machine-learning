{
 "cells": [
  {
   "cell_type": "code",
   "execution_count": 5,
   "metadata": {},
   "outputs": [],
   "source": [
    "import pandas as pd\n",
    "import matplotlib.pyplot as plt\n",
    "import numpy as np\n",
    "import os \n",
    "from PIL import Image\n",
    "import random\n",
    "import time"
   ]
  },
  {
   "cell_type": "code",
   "execution_count": 6,
   "metadata": {},
   "outputs": [],
   "source": [
    "PATH = \".\\data\""
   ]
  },
  {
   "cell_type": "code",
   "execution_count": 7,
   "metadata": {},
   "outputs": [],
   "source": [
    "#load the npy file\n",
    "orientations_test = np.load(PATH + \"/orientations_test.npy\", allow_pickle=True)\n",
    "orientations_train = np.load(PATH + \"/orientations_train.npy\", allow_pickle=True)"
   ]
  },
  {
   "cell_type": "code",
   "execution_count": 8,
   "metadata": {},
   "outputs": [
    {
     "data": {
      "text/plain": [
       "(10000,)"
      ]
     },
     "execution_count": 8,
     "metadata": {},
     "output_type": "execute_result"
    }
   ],
   "source": [
    "orientations_train.shape"
   ]
  },
  {
   "cell_type": "code",
   "execution_count": 9,
   "metadata": {},
   "outputs": [],
   "source": [
    "train_files = os.listdir(PATH + \"/3dshapes_train/\")\n",
    "test_files = os.listdir(PATH+ \"/3dshapes_test/\")"
   ]
  },
  {
   "attachments": {},
   "cell_type": "markdown",
   "metadata": {},
   "source": [
    "### Processing the images"
   ]
  },
  {
   "cell_type": "code",
   "execution_count": 10,
   "metadata": {},
   "outputs": [],
   "source": [
    "train_images = []\n",
    "for image in train_files:\n",
    "    img = Image.open(PATH + \"/3dshapes_train/\"+ image).convert('L') # convert to grayscale \n",
    "    img = np.array(img).flatten() # flatten the image to a 1D array in order to be able to use it in the linear regression\n",
    "    train_images.append(img)\n",
    "train_data = np.array(train_images)\n"
   ]
  },
  {
   "cell_type": "code",
   "execution_count": 11,
   "metadata": {},
   "outputs": [
    {
     "data": {
      "text/plain": [
       "(10000, 4096)"
      ]
     },
     "execution_count": 11,
     "metadata": {},
     "output_type": "execute_result"
    }
   ],
   "source": [
    "train_data.shape # must print (10000, 4096) 10000 images with 4096 pixels each"
   ]
  },
  {
   "cell_type": "code",
   "execution_count": 12,
   "metadata": {},
   "outputs": [],
   "source": [
    "test_images = []\n",
    "for image in test_files:\n",
    "    img = Image.open(PATH + \"/3dshapes_test/\" +image).convert('L') # convert to grayscale \n",
    "    img = np.array(img).flatten() # flatten the image to a 1D array in order to be able to use it in the linear regression\n",
    "    test_images.append(img)\n",
    "test_data = np.array(test_images)"
   ]
  },
  {
   "cell_type": "code",
   "execution_count": 13,
   "metadata": {},
   "outputs": [],
   "source": [
    "# Function to plot single image arrays\n",
    "def plot_single_image(image):\n",
    "    # Reshape the flattened image to a 2D array\n",
    "    single_image = np.reshape(image, (64, 64))\n",
    "\n",
    "    # Plot the image\n",
    "    plt.imshow(single_image, cmap='gray')\n",
    "    plt.show()"
   ]
  },
  {
   "cell_type": "code",
   "execution_count": 14,
   "metadata": {},
   "outputs": [
    {
     "data": {
      "image/png": "[encoded data removed]",
      "text/plain": [
       "<Figure size 640x480 with 1 Axes>"
      ]
     },
     "metadata": {},
     "output_type": "display_data"
    }
   ],
   "source": [
    "plot_single_image(train_data[0])"
   ]
  },
  {
   "attachments": {},
   "cell_type": "markdown",
   "metadata": {},
   "source": [
    "### Linear Regression "
   ]
  },
  {
   "cell_type": "code",
   "execution_count": 116,
   "metadata": {},
   "outputs": [],
   "source": [
    "#implement linear regression from scratch\n",
    "def linear_regression(X, y, learning_rate, epochs, experiment = False):\n",
    "    #keep track of time \n",
    "    start = time.time()\n",
    "    #initialize weights and bias\n",
    "    w = np.zeros(X.shape[1])\n",
    "    b = 0\n",
    "    n = len(X)\n",
    "    for i in range(epochs):\n",
    "        y_predicted = np.dot(X, w) + b\n",
    "        #calculate cost\n",
    "        cost = (1/n) * sum([val**2 for val in (y-y_predicted)])\n",
    "        #calculate gradients\n",
    "        dw = -(2/n) * np.dot(X.T, (y-y_predicted))\n",
    "        db = -(2/n) * sum(y-y_predicted)\n",
    "        #update weights and bias\n",
    "        w = w - learning_rate * dw\n",
    "        b = b - learning_rate * db\n",
    "        if not experiment:\n",
    "            print(\"epoch: \", i, \",cost: \", cost)\n",
    "        if cost > 1e6:\n",
    "            print(\"cost is too high, exiting training\")\n",
    "            break\n",
    "    end = time.time()\n",
    "    print(\"training time: \", end-start)\n",
    "    return w, b"
   ]
  },
  {
   "cell_type": "code",
   "execution_count": 117,
   "metadata": {},
   "outputs": [
    {
     "name": "stdout",
     "output_type": "stream",
     "text": [
      "epoch:  0 ,cost:  346.2722448979581\n",
      "epoch:  1 ,cost:  647499.1321459223\n",
      "epoch:  2 ,cost:  216356884106346.78\n",
      "cost is too high, exiting training\n",
      "training time:  0.6939699649810791\n"
     ]
    }
   ],
   "source": [
    "w, b = linear_regression(train_data, orientations_train, 0.0001, 100)"
   ]
  },
  {
   "attachments": {},
   "cell_type": "markdown",
   "metadata": {},
   "source": [
    "Unfortunately, the model did not converge with the raw data. Let's try standardizing and normalizing the data:"
   ]
  },
  {
   "cell_type": "code",
   "execution_count": 17,
   "metadata": {},
   "outputs": [],
   "source": [
    "def standardize(data):\n",
    "    # Standardize the data by subtracting the mean and dividing by the standard deviation\n",
    "    mean = np.mean(data)\n",
    "    std = np.std(data)\n",
    "    if np.count_nonzero(std==0) !=0: #check if there is any zero std to avoid divison by zero\n",
    "        std[std==0] = 1e-8\n",
    "    return (data - mean) / std\n",
    "def normalize(data):\n",
    "    # Normalize the data by subtracting the min and dividing by the max-min\n",
    "    max = np.max(data)\n",
    "    min = np.min(data)\n",
    "    if np.count_nonzero(max-min==0) !=0: #check if there is any zero std to avoid divison by zero\n",
    "        max-min == 1e-8\n",
    "    return (data - min) / (max - min)"
   ]
  },
  {
   "cell_type": "code",
   "execution_count": 18,
   "metadata": {},
   "outputs": [],
   "source": [
    "train_data_standardized = standardize(train_data)"
   ]
  },
  {
   "cell_type": "code",
   "execution_count": 19,
   "metadata": {},
   "outputs": [],
   "source": [
    "orientations_train_standardized = standardize(orientations_train)"
   ]
  },
  {
   "cell_type": "code",
   "execution_count": 118,
   "metadata": {},
   "outputs": [
    {
     "name": "stdout",
     "output_type": "stream",
     "text": [
      "epoch:  0 ,cost:  0.9999999999999392\n",
      "epoch:  1 ,cost:  0.9999832872259077\n",
      "epoch:  2 ,cost:  0.9999676237451266\n",
      "epoch:  3 ,cost:  0.9999527370991761\n",
      "epoch:  4 ,cost:  0.9999384550722733\n",
      "epoch:  5 ,cost:  0.9999246568654484\n",
      "epoch:  6 ,cost:  0.9999112528551761\n",
      "epoch:  7 ,cost:  0.9998981746941081\n",
      "epoch:  8 ,cost:  0.9998853695538638\n",
      "epoch:  9 ,cost:  0.9998727963035936\n",
      "epoch:  10 ,cost:  0.9998604227670375\n",
      "epoch:  11 ,cost:  0.999848223673793\n",
      "epoch:  12 ,cost:  0.9998361790999589\n",
      "epoch:  13 ,cost:  0.9998242732707943\n",
      "epoch:  14 ,cost:  0.9998124936369673\n",
      "epoch:  15 ,cost:  0.9998008301603092\n",
      "epoch:  16 ,cost:  0.9997892747605406\n",
      "epoch:  17 ,cost:  0.999777820886092\n",
      "epoch:  18 ,cost:  0.9997664631809156\n",
      "epoch:  19 ,cost:  0.9997551972254964\n",
      "epoch:  20 ,cost:  0.9997440193353694\n",
      "epoch:  21 ,cost:  0.9997329264041616\n",
      "epoch:  22 ,cost:  0.9997219157813545\n",
      "epoch:  23 ,cost:  0.9997109851767658\n",
      "epoch:  24 ,cost:  0.9997001325861077\n",
      "epoch:  25 ,cost:  0.9996893562326449\n",
      "epoch:  26 ,cost:  0.9996786545216577\n",
      "epoch:  27 ,cost:  0.9996680260046773\n",
      "epoch:  28 ,cost:  0.9996574693514846\n",
      "epoch:  29 ,cost:  0.9996469833280796\n",
      "epoch:  30 ,cost:  0.9996365667793519\n",
      "epoch:  31 ,cost:  0.9996262186154594\n",
      "epoch:  32 ,cost:  0.999615937801042\n",
      "epoch:  33 ,cost:  0.9996057233466765\n",
      "epoch:  34 ,cost:  0.9995955743021175\n",
      "epoch:  35 ,cost:  0.9995854897509322\n",
      "epoch:  36 ,cost:  0.9995754688061583\n",
      "epoch:  37 ,cost:  0.9995655106069015\n",
      "epoch:  38 ,cost:  0.9995556143155274\n",
      "epoch:  39 ,cost:  0.9995457791154324\n",
      "epoch:  40 ,cost:  0.9995360042091903\n",
      "epoch:  41 ,cost:  0.9995262888170765\n",
      "epoch:  42 ,cost:  0.9995166321758024\n",
      "epoch:  43 ,cost:  0.9995070335374973\n",
      "epoch:  44 ,cost:  0.9994974921688647\n",
      "epoch:  45 ,cost:  0.9994880073503635\n",
      "epoch:  46 ,cost:  0.9994785783756727\n",
      "epoch:  47 ,cost:  0.9994692045510698\n",
      "epoch:  48 ,cost:  0.9994598851949861\n",
      "epoch:  49 ,cost:  0.9994506196375962\n",
      "epoch:  50 ,cost:  0.9994414072203814\n",
      "epoch:  51 ,cost:  0.9994322472958499\n",
      "epoch:  52 ,cost:  0.999423139227182\n",
      "epoch:  53 ,cost:  0.9994140823879464\n",
      "epoch:  54 ,cost:  0.9994050761618722\n",
      "epoch:  55 ,cost:  0.9993961199425528\n",
      "epoch:  56 ,cost:  0.9993872131332301\n",
      "epoch:  57 ,cost:  0.9993783551465766\n",
      "epoch:  58 ,cost:  0.9993695454044997\n",
      "epoch:  59 ,cost:  0.999360783337901\n",
      "epoch:  60 ,cost:  0.9993520683865451\n",
      "epoch:  61 ,cost:  0.9993433999988156\n",
      "epoch:  62 ,cost:  0.9993347776315817\n",
      "epoch:  63 ,cost:  0.9993262007500225\n",
      "epoch:  64 ,cost:  0.9993176688274388\n",
      "epoch:  65 ,cost:  0.9993091813451367\n",
      "epoch:  66 ,cost:  0.999300737792242\n",
      "epoch:  67 ,cost:  0.9992923376655393\n",
      "epoch:  68 ,cost:  0.9992839804693713\n",
      "epoch:  69 ,cost:  0.9992756657154754\n",
      "epoch:  70 ,cost:  0.9992673929228448\n",
      "epoch:  71 ,cost:  0.9992591616176031\n",
      "epoch:  72 ,cost:  0.9992509713328418\n",
      "epoch:  73 ,cost:  0.9992428216085717\n",
      "epoch:  74 ,cost:  0.9992347119914959\n",
      "epoch:  75 ,cost:  0.9992266420349923\n",
      "epoch:  76 ,cost:  0.9992186112989075\n",
      "epoch:  77 ,cost:  0.9992106193495124\n",
      "epoch:  78 ,cost:  0.9992026657593431\n",
      "epoch:  79 ,cost:  0.9991947501071063\n",
      "epoch:  80 ,cost:  0.9991868719775905\n",
      "epoch:  81 ,cost:  0.9991790309615339\n",
      "epoch:  82 ,cost:  0.9991712266555224\n",
      "epoch:  83 ,cost:  0.9991634586619134\n",
      "epoch:  84 ,cost:  0.9991557265887305\n",
      "epoch:  85 ,cost:  0.9991480300495367\n",
      "epoch:  86 ,cost:  0.9991403686633863\n",
      "epoch:  87 ,cost:  0.9991327420546926\n",
      "epoch:  88 ,cost:  0.9991251498531744\n",
      "epoch:  89 ,cost:  0.9991175916937289\n",
      "epoch:  90 ,cost:  0.9991100672163812\n",
      "epoch:  91 ,cost:  0.9991025760661757\n",
      "epoch:  92 ,cost:  0.9990951178930962\n",
      "epoch:  93 ,cost:  0.9990876923519904\n",
      "epoch:  94 ,cost:  0.9990802991025023\n",
      "epoch:  95 ,cost:  0.999072937808958\n",
      "epoch:  96 ,cost:  0.9990656081403175\n",
      "epoch:  97 ,cost:  0.9990583097700828\n",
      "epoch:  98 ,cost:  0.9990510423762547\n",
      "epoch:  99 ,cost:  0.9990438056412232\n",
      "training time:  2.1202611923217773\n"
     ]
    }
   ],
   "source": [
    "w_s, b_s = linear_regression(train_data_standardized, orientations_train_standardized, 0.0001, 100)"
   ]
  },
  {
   "attachments": {},
   "cell_type": "markdown",
   "metadata": {},
   "source": [
    "The model did converge with the standardized data but also let's try to normalize: "
   ]
  },
  {
   "cell_type": "code",
   "execution_count": 109,
   "metadata": {},
   "outputs": [],
   "source": [
    "train_data_normalized = normalize(train_data)\n",
    "orientations_train_normalized = normalize(orientations_train)"
   ]
  },
  {
   "cell_type": "code",
   "execution_count": 119,
   "metadata": {},
   "outputs": [
    {
     "name": "stdout",
     "output_type": "stream",
     "text": [
      "epoch:  0 ,cost:  0.34704387755102584\n",
      "epoch:  1 ,cost:  0.21847079866655686\n",
      "epoch:  2 ,cost:  0.15673147926989806\n",
      "epoch:  3 ,cost:  0.12707600025298468\n",
      "epoch:  4 ,cost:  0.11282260010007776\n",
      "epoch:  5 ,cost:  0.10596316809502841\n",
      "epoch:  6 ,cost:  0.10265339483816859\n",
      "epoch:  7 ,cost:  0.10104781108229209\n",
      "epoch:  8 ,cost:  0.10026049432393223\n",
      "epoch:  9 ,cost:  0.09986615417728066\n",
      "epoch:  10 ,cost:  0.0996606275316207\n",
      "epoch:  11 ,cost:  0.09954590383089426\n",
      "epoch:  12 ,cost:  0.09947493125706236\n",
      "epoch:  13 ,cost:  0.09942512084132421\n",
      "epoch:  14 ,cost:  0.09938562706598646\n",
      "epoch:  15 ,cost:  0.09935124189487754\n",
      "epoch:  16 ,cost:  0.09931946359174308\n",
      "epoch:  17 ,cost:  0.09928908960118868\n",
      "epoch:  18 ,cost:  0.09925954105852902\n",
      "epoch:  19 ,cost:  0.09923053851937602\n",
      "epoch:  20 ,cost:  0.09920194629288828\n",
      "epoch:  21 ,cost:  0.09917369771350064\n",
      "epoch:  22 ,cost:  0.09914575926731493\n",
      "epoch:  23 ,cost:  0.09911811337074333\n",
      "epoch:  24 ,cost:  0.09909075010320072\n",
      "epoch:  25 ,cost:  0.09906366323820044\n",
      "epoch:  26 ,cost:  0.0990368483379176\n",
      "epoch:  27 ,cost:  0.09901030183831387\n",
      "epoch:  28 ,cost:  0.09898402060979239\n",
      "epoch:  29 ,cost:  0.09895800174613267\n",
      "epoch:  30 ,cost:  0.09893224246301092\n",
      "epoch:  31 ,cost:  0.09890674004912892\n",
      "epoch:  32 ,cost:  0.09888149184260159\n",
      "epoch:  33 ,cost:  0.09885649521947334\n",
      "epoch:  34 ,cost:  0.09883174758804701\n",
      "epoch:  35 ,cost:  0.09880724638602388\n",
      "epoch:  36 ,cost:  0.09878298907897627\n",
      "epoch:  37 ,cost:  0.09875897315947264\n",
      "epoch:  38 ,cost:  0.09873519614651424\n",
      "epoch:  39 ,cost:  0.09871165558512267\n",
      "epoch:  40 ,cost:  0.09868834904599813\n",
      "epoch:  41 ,cost:  0.09866527412522096\n",
      "epoch:  42 ,cost:  0.09864242844396903\n",
      "epoch:  43 ,cost:  0.09861980964824486\n",
      "epoch:  44 ,cost:  0.09859741540861232\n",
      "epoch:  45 ,cost:  0.09857524341993582\n",
      "epoch:  46 ,cost:  0.0985532914011227\n",
      "epoch:  47 ,cost:  0.0985315570948703\n",
      "epoch:  48 ,cost:  0.09851003826741442\n",
      "epoch:  49 ,cost:  0.09848873270828397\n",
      "epoch:  50 ,cost:  0.09846763823005311\n",
      "epoch:  51 ,cost:  0.09844675266809808\n",
      "epoch:  52 ,cost:  0.09842607388036127\n",
      "epoch:  53 ,cost:  0.0984055997471087\n",
      "epoch:  54 ,cost:  0.09838532817069794\n",
      "epoch:  55 ,cost:  0.09836525707534452\n",
      "epoch:  56 ,cost:  0.0983453844068944\n",
      "epoch:  57 ,cost:  0.09832570813259152\n",
      "epoch:  58 ,cost:  0.09830622624085629\n",
      "epoch:  59 ,cost:  0.09828693674106379\n",
      "epoch:  60 ,cost:  0.09826783766331905\n",
      "epoch:  61 ,cost:  0.09824892705824341\n",
      "epoch:  62 ,cost:  0.09823020299675504\n",
      "epoch:  63 ,cost:  0.09821166356985903\n",
      "epoch:  64 ,cost:  0.09819330688843325\n",
      "epoch:  65 ,cost:  0.0981751310830211\n",
      "epoch:  66 ,cost:  0.09815713430362343\n",
      "epoch:  67 ,cost:  0.0981393147194947\n",
      "epoch:  68 ,cost:  0.098121670518941\n",
      "epoch:  69 ,cost:  0.0981041999091195\n",
      "epoch:  70 ,cost:  0.09808690111584073\n",
      "epoch:  71 ,cost:  0.0980697723833699\n",
      "epoch:  72 ,cost:  0.09805281197423608\n",
      "epoch:  73 ,cost:  0.09803601816903955\n",
      "epoch:  74 ,cost:  0.09801938926626189\n",
      "epoch:  75 ,cost:  0.09800292358207624\n",
      "epoch:  76 ,cost:  0.09798661945016483\n",
      "epoch:  77 ,cost:  0.09797047522153231\n",
      "epoch:  78 ,cost:  0.09795448926432349\n",
      "epoch:  79 ,cost:  0.09793865996364652\n",
      "epoch:  80 ,cost:  0.09792298572139181\n",
      "epoch:  81 ,cost:  0.09790746495605694\n",
      "epoch:  82 ,cost:  0.09789209610257094\n",
      "epoch:  83 ,cost:  0.09787687761212494\n",
      "epoch:  84 ,cost:  0.09786180795199734\n",
      "epoch:  85 ,cost:  0.09784688560538764\n",
      "epoch:  86 ,cost:  0.09783210907124879\n",
      "epoch:  87 ,cost:  0.09781747686412187\n",
      "epoch:  88 ,cost:  0.09780298751397233\n",
      "epoch:  89 ,cost:  0.09778863956602628\n",
      "epoch:  90 ,cost:  0.09777443158061495\n",
      "epoch:  91 ,cost:  0.09776036213300998\n",
      "epoch:  92 ,cost:  0.09774642981327358\n",
      "epoch:  93 ,cost:  0.09773263322609699\n",
      "epoch:  94 ,cost:  0.09771897099065247\n",
      "epoch:  95 ,cost:  0.09770544174043518\n",
      "epoch:  96 ,cost:  0.09769204412312082\n",
      "epoch:  97 ,cost:  0.09767877680040822\n",
      "epoch:  98 ,cost:  0.09766563844788043\n",
      "epoch:  99 ,cost:  0.0976526277548529\n",
      "training time:  2.139819860458374\n"
     ]
    }
   ],
   "source": [
    "w_n, b_n = linear_regression(train_data_normalized, orientations_train_normalized, 0.0001, 100)"
   ]
  },
  {
   "attachments": {},
   "cell_type": "markdown",
   "metadata": {},
   "source": [
    "Both normalizing and standardizing the data:"
   ]
  },
  {
   "cell_type": "code",
   "execution_count": 120,
   "metadata": {},
   "outputs": [],
   "source": [
    "train_data_ns = standardize(train_data_normalized)\n",
    "orientations_train_ns = standardize(orientations_train_normalized)"
   ]
  },
  {
   "cell_type": "code",
   "execution_count": 125,
   "metadata": {},
   "outputs": [
    {
     "name": "stdout",
     "output_type": "stream",
     "text": [
      "epoch:  0 ,cost:  346.2722448979581\n",
      "epoch:  1 ,cost:  346.26475268002054\n",
      "epoch:  2 ,cost:  346.25897895042937\n",
      "epoch:  3 ,cost:  346.25386879668775\n",
      "epoch:  4 ,cost:  346.2490591764227\n",
      "epoch:  5 ,cost:  346.2444173922829\n",
      "epoch:  6 ,cost:  346.2398892155386\n",
      "epoch:  7 ,cost:  346.235448488707\n",
      "epoch:  8 ,cost:  346.23108008499435\n",
      "epoch:  9 ,cost:  346.22677390783815\n",
      "epoch:  10 ,cost:  346.2225226014351\n",
      "epoch:  11 ,cost:  346.21832055156426\n",
      "epoch:  12 ,cost:  346.2141633668185\n",
      "epoch:  13 ,cost:  346.2100475615553\n",
      "epoch:  14 ,cost:  346.20597033886486\n",
      "epoch:  15 ,cost:  346.2019294323327\n",
      "epoch:  16 ,cost:  346.1979229869934\n",
      "epoch:  17 ,cost:  346.19394946839543\n",
      "epoch:  18 ,cost:  346.19000759266237\n",
      "epoch:  19 ,cost:  346.1860962724708\n",
      "epoch:  20 ,cost:  346.1822145752067\n",
      "epoch:  21 ,cost:  346.1783616905029\n",
      "epoch:  22 ,cost:  346.17453690499696\n",
      "epoch:  23 ,cost:  346.17073958266906\n",
      "epoch:  24 ,cost:  346.1669691495285\n",
      "epoch:  25 ,cost:  346.1632250816064\n",
      "epoch:  26 ,cost:  346.15950689559804\n",
      "epoch:  27 ,cost:  346.1558141414673\n",
      "epoch:  28 ,cost:  346.15214639667704\n",
      "epoch:  29 ,cost:  346.1485032616057\n",
      "epoch:  30 ,cost:  346.1448843559297\n",
      "epoch:  31 ,cost:  346.14128931577005\n",
      "epoch:  32 ,cost:  346.13771779138636\n",
      "epoch:  33 ,cost:  346.13416944535817\n",
      "epoch:  34 ,cost:  346.13064395111786\n",
      "epoch:  35 ,cost:  346.1271409917576\n",
      "epoch:  36 ,cost:  346.12366025907136\n",
      "epoch:  37 ,cost:  346.1202014527584\n",
      "epoch:  38 ,cost:  346.1167642797771\n",
      "epoch:  39 ,cost:  346.1133484538072\n",
      "epoch:  40 ,cost:  346.10995369479457\n",
      "epoch:  41 ,cost:  346.10657972857814\n",
      "epoch:  42 ,cost:  346.1032262865474\n",
      "epoch:  43 ,cost:  346.09989310538555\n",
      "epoch:  44 ,cost:  346.0965799268062\n",
      "epoch:  45 ,cost:  346.09328649735505\n",
      "epoch:  46 ,cost:  346.09001256821244\n",
      "epoch:  47 ,cost:  346.08675789501984\n",
      "epoch:  48 ,cost:  346.0835222377461\n",
      "epoch:  49 ,cost:  346.0803053605306\n",
      "epoch:  50 ,cost:  346.07710703156147\n",
      "epoch:  51 ,cost:  346.0739270229637\n",
      "epoch:  52 ,cost:  346.07076511068436\n",
      "epoch:  53 ,cost:  346.0676210743916\n",
      "epoch:  54 ,cost:  346.0644946973896\n",
      "epoch:  55 ,cost:  346.06138576650903\n",
      "epoch:  56 ,cost:  346.0582940720399\n",
      "epoch:  57 ,cost:  346.0552194076412\n",
      "epoch:  58 ,cost:  346.0521615702677\n",
      "epoch:  59 ,cost:  346.04912036009694\n",
      "epoch:  60 ,cost:  346.04609558045416\n",
      "epoch:  61 ,cost:  346.043087037749\n",
      "epoch:  62 ,cost:  346.0400945414118\n",
      "epoch:  63 ,cost:  346.0371179038228\n",
      "epoch:  64 ,cost:  346.03415694025716\n",
      "epoch:  65 ,cost:  346.03121146883484\n",
      "epoch:  66 ,cost:  346.0282813104463\n",
      "epoch:  67 ,cost:  346.0253662887093\n",
      "epoch:  68 ,cost:  346.022466229917\n",
      "epoch:  69 ,cost:  346.01958096298\n",
      "epoch:  70 ,cost:  346.0167103193742\n",
      "epoch:  71 ,cost:  346.01385413310993\n",
      "epoch:  72 ,cost:  346.01101224066576\n",
      "epoch:  73 ,cost:  346.0081844809408\n",
      "epoch:  74 ,cost:  346.0053706952284\n",
      "epoch:  75 ,cost:  346.00257072716016\n",
      "epoch:  76 ,cost:  345.9997844226649\n",
      "epoch:  77 ,cost:  345.9970116299238\n",
      "epoch:  78 ,cost:  345.9942521993369\n",
      "epoch:  79 ,cost:  345.99150598347825\n",
      "epoch:  80 ,cost:  345.9887728370674\n",
      "epoch:  81 ,cost:  345.98605261691387\n",
      "epoch:  82 ,cost:  345.9833451818961\n",
      "epoch:  83 ,cost:  345.98065039291885\n",
      "epoch:  84 ,cost:  345.97796811287844\n",
      "epoch:  85 ,cost:  345.9752982066293\n",
      "epoch:  86 ,cost:  345.9726405409504\n",
      "epoch:  87 ,cost:  345.96999498451146\n",
      "epoch:  88 ,cost:  345.9673614078424\n",
      "epoch:  89 ,cost:  345.96473968329764\n",
      "epoch:  90 ,cost:  345.96212968503596\n",
      "epoch:  91 ,cost:  345.95953128897384\n",
      "epoch:  92 ,cost:  345.956944372773\n",
      "epoch:  93 ,cost:  345.95436881578985\n",
      "epoch:  94 ,cost:  345.9518044990808\n",
      "epoch:  95 ,cost:  345.94925130533505\n",
      "epoch:  96 ,cost:  345.9467091188796\n",
      "epoch:  97 ,cost:  345.9441778256306\n",
      "epoch:  98 ,cost:  345.9416573130802\n",
      "epoch:  99 ,cost:  345.9391474702644\n",
      "training time:  2.059866189956665\n"
     ]
    }
   ],
   "source": [
    "w_ns, b_ns = linear_regression(train_data_ns, orientations_train, 0.0001, 100)"
   ]
  },
  {
   "attachments": {},
   "cell_type": "markdown",
   "metadata": {},
   "source": [
    "Processing the test data the same way we processed the train data: "
   ]
  },
  {
   "cell_type": "code",
   "execution_count": 122,
   "metadata": {},
   "outputs": [],
   "source": [
    "test_data_standardized = standardize(test_data)\n",
    "test_data_normalized = normalize(test_data)\n",
    "test_data_ns = standardize(test_data_normalized)\n",
    "orientations_test_standardized = standardize(orientations_test)\n",
    "orientations_test_normalized = normalize(orientations_test)\n",
    "orientations_test_ns = standardize(orientations_test_normalized)"
   ]
  },
  {
   "cell_type": "code",
   "execution_count": 65,
   "metadata": {},
   "outputs": [],
   "source": [
    "def predict(X, w, b):\n",
    "    #keep track of prediction time\n",
    "    start = time.time()\n",
    "    y_predicted = np.dot(X, w) + b\n",
    "    end = time.time()\n",
    "    print(\"prediction time: \", end-start)\n",
    "    return y_predicted"
   ]
  },
  {
   "cell_type": "code",
   "execution_count": 158,
   "metadata": {},
   "outputs": [],
   "source": [
    "def test(X, y, w, b):\n",
    "    y_predicted = predict(X, w, b)\n",
    "    #print the root mean squared error\n",
    "    rmse = np.sqrt(np.mean((y-y_predicted)**2))\n",
    "    print(\"RMSE: \", rmse)\n",
    "    return rmse"
   ]
  },
  {
   "attachments": {},
   "cell_type": "markdown",
   "metadata": {},
   "source": [
    "Testing the model on raw, standardized, normalized and standardized normalized data:"
   ]
  },
  {
   "cell_type": "code",
   "execution_count": 146,
   "metadata": {},
   "outputs": [
    {
     "name": "stdout",
     "output_type": "stream",
     "text": [
      "prediction time:  0.003904104232788086\n",
      "RMSE:  269556034423.19086\n"
     ]
    },
    {
     "data": {
      "text/plain": [
       "269556034423.19086"
      ]
     },
     "execution_count": 146,
     "metadata": {},
     "output_type": "execute_result"
    }
   ],
   "source": [
    "test(test_data, orientations_test, w, b)"
   ]
  },
  {
   "attachments": {},
   "cell_type": "markdown",
   "metadata": {},
   "source": [
    "RMSE for the standardized data:"
   ]
  },
  {
   "cell_type": "code",
   "execution_count": 147,
   "metadata": {},
   "outputs": [
    {
     "name": "stdout",
     "output_type": "stream",
     "text": [
      "prediction time:  0.0019450187683105469\n",
      "RMSE:  0.9997034124907559\n"
     ]
    },
    {
     "data": {
      "text/plain": [
       "0.9997034124907559"
      ]
     },
     "execution_count": 147,
     "metadata": {},
     "output_type": "execute_result"
    }
   ],
   "source": [
    "test(test_data_standardized, orientations_test_standardized, w_s, b_s)"
   ]
  },
  {
   "attachments": {},
   "cell_type": "markdown",
   "metadata": {},
   "source": [
    "RMSE for the normalized data:"
   ]
  },
  {
   "cell_type": "code",
   "execution_count": 148,
   "metadata": {},
   "outputs": [
    {
     "name": "stdout",
     "output_type": "stream",
     "text": [
      "prediction time:  0.0016269683837890625\n",
      "RMSE:  0.30825764366138175\n"
     ]
    },
    {
     "data": {
      "text/plain": [
       "0.30825764366138175"
      ]
     },
     "execution_count": 148,
     "metadata": {},
     "output_type": "execute_result"
    }
   ],
   "source": [
    "test(test_data_normalized, orientations_test_normalized, w_n, b_n)"
   ]
  },
  {
   "attachments": {},
   "cell_type": "markdown",
   "metadata": {},
   "source": [
    "RMSE for the normalized and standardized data:"
   ]
  },
  {
   "cell_type": "code",
   "execution_count": 149,
   "metadata": {},
   "outputs": [
    {
     "name": "stdout",
     "output_type": "stream",
     "text": [
      "prediction time:  0.0012400150299072266\n",
      "RMSE:  1.0174976942371743\n"
     ]
    },
    {
     "data": {
      "text/plain": [
       "1.0174976942371743"
      ]
     },
     "execution_count": 149,
     "metadata": {},
     "output_type": "execute_result"
    }
   ],
   "source": [
    "test(test_data_ns, orientations_test_ns, w_ns, b_ns)"
   ]
  },
  {
   "attachments": {},
   "cell_type": "markdown",
   "metadata": {},
   "source": [
    "So it seems like normalizing the data gives the best result. \\\n",
    "Let's try different learning rates to see if it improves the performance:\n"
   ]
  },
  {
   "cell_type": "code",
   "execution_count": 156,
   "metadata": {},
   "outputs": [],
   "source": [
    "lr_list = [1e-10, 1e-9, 1e-8, 1e-7, 1e-6, 1e-5, 1e-4, 1e-3, 1e-2, 1e-1, 1, 10, 1000, 10000]\n",
    "epoch = 100\n",
    "def run_experiment(lr_list, epoch):\n",
    "    rmse_list = []\n",
    "    for lr in lr_list:\n",
    "        w, b = linear_regression(train_data_normalized, orientations_train_normalized, lr, epoch, experiment= True)\n",
    "        print(\"lr: \", lr)\n",
    "        rmse = test(test_data_normalized, orientations_test_normalized, w, b)\n",
    "        rmse_list.append(rmse)\n",
    "        if rmse == min(rmse_list):\n",
    "            lr_best = lr\n",
    "    print(\"-\"*50)\n",
    "    print(\"best lr: \", lr_best, \"best rmse: \", min(rmse_list))    \n",
    "        \n"
   ]
  },
  {
   "cell_type": "code",
   "execution_count": 157,
   "metadata": {},
   "outputs": [
    {
     "name": "stdout",
     "output_type": "stream",
     "text": [
      "training time:  2.0476930141448975\n",
      "lr:  1e-10\n",
      "prediction time:  0.0008189678192138672\n",
      "RMSE:  0.5977890097697146\n",
      "training time:  1.9889090061187744\n",
      "lr:  1e-09\n",
      "prediction time:  0.0008089542388916016\n",
      "RMSE:  0.5976712491865219\n",
      "training time:  2.0586581230163574\n",
      "lr:  1e-08\n",
      "prediction time:  0.0009949207305908203\n",
      "RMSE:  0.5964958876439755\n",
      "training time:  2.1226401329040527\n",
      "lr:  1e-07\n",
      "prediction time:  0.0007691383361816406\n",
      "RMSE:  0.5849645335391934\n",
      "training time:  2.0342869758605957\n",
      "lr:  1e-06\n",
      "prediction time:  0.000942230224609375\n",
      "RMSE:  0.4898183291680657\n",
      "training time:  2.06659197807312\n",
      "lr:  1e-05\n",
      "prediction time:  0.0008490085601806641\n",
      "RMSE:  0.3126016558711412\n",
      "training time:  2.0331921577453613\n",
      "lr:  0.0001\n",
      "prediction time:  0.0007991790771484375\n",
      "RMSE:  0.30825764366138175\n",
      "cost is too high, exiting training\n",
      "training time:  0.24042510986328125\n",
      "lr:  0.001\n",
      "prediction time:  0.0010857582092285156\n",
      "RMSE:  3114.141879206618\n",
      "cost is too high, exiting training\n",
      "training time:  0.08038711547851562\n",
      "lr:  0.01\n",
      "prediction time:  0.000637054443359375\n",
      "RMSE:  389017.12299877155\n",
      "cost is too high, exiting training\n",
      "training time:  0.05994892120361328\n",
      "lr:  0.1\n",
      "prediction time:  0.0006480216979980469\n",
      "RMSE:  14317947.410078859\n",
      "cost is too high, exiting training\n",
      "training time:  0.03997492790222168\n",
      "lr:  1\n",
      "prediction time:  0.0006978511810302734\n",
      "RMSE:  4704431.649362564\n",
      "cost is too high, exiting training\n",
      "training time:  0.0402989387512207\n",
      "lr:  10\n",
      "prediction time:  0.0008418560028076172\n",
      "RMSE:  470718997.1910955\n",
      "cost is too high, exiting training\n",
      "training time:  0.04165196418762207\n",
      "lr:  1000\n",
      "prediction time:  0.0008020401000976562\n",
      "RMSE:  4707493437865.533\n",
      "cost is too high, exiting training\n",
      "training time:  0.03750777244567871\n",
      "lr:  10000\n",
      "prediction time:  0.0008559226989746094\n",
      "RMSE:  470749619669283.06\n",
      "--------------------------------------------------\n",
      "best lr:  0.0001 best rmse:  0.30825764366138175\n"
     ]
    }
   ],
   "source": [
    "run_experiment(lr_list, epoch)"
   ]
  },
  {
   "attachments": {},
   "cell_type": "markdown",
   "metadata": {},
   "source": [
    "So after all it seems like normalizing the data and setting the learning rate to 1e-4 gives the best RMSE result: 0.308"
   ]
  },
  {
   "attachments": {},
   "cell_type": "markdown",
   "metadata": {},
   "source": [
    "### Random Forest Regressor"
   ]
  },
  {
   "cell_type": "code",
   "execution_count": 92,
   "metadata": {},
   "outputs": [],
   "source": [
    "from sklearn.ensemble import RandomForestRegressor"
   ]
  },
  {
   "cell_type": "code",
   "execution_count": 101,
   "metadata": {},
   "outputs": [],
   "source": [
    "def random_forest_regressor(data_type, n_estimators, random_state):\n",
    "    if data_type == \"raw\":\n",
    "        train = train_data\n",
    "        train_labels = orientations_train\n",
    "        test = test_data\n",
    "        test_labels = orientations_test\n",
    "    elif data_type == \"standardized\":\n",
    "        train = train_data_standardized\n",
    "        train_labels = orientations_train_standardized\n",
    "        test = test_data_standardized\n",
    "        test_labels = orientations_test_standardized\n",
    "    elif data_type == \"normalized\":\n",
    "        train = train_data_normalized\n",
    "        train_labels = orientations_train_normalized\n",
    "        test = test_data_normalized\n",
    "        test_labels = orientations_test_normalized\n",
    "    elif data_type == \"ns\":\n",
    "        train = train_data_ns\n",
    "        train_labels = orientations_train_ns\n",
    "        test = test_data_ns\n",
    "        test_labels = orientations_test_ns\n",
    "    start = time.time()\n",
    "    rf = RandomForestRegressor(n_estimators=n_estimators, random_state=random_state)\n",
    "    rf.fit(train, train_labels)\n",
    "    end = time.time()\n",
    "    print(\"time to train: \", end-start, \"s\")\n",
    "    #predict the test data\n",
    "    start = time.time()\n",
    "    y_predicted = rf.predict(test)\n",
    "    end = time.time()\n",
    "    print(\"time to predict: \", end-start, \"s\")\n",
    "    #print the root mean squared error\n",
    "    print(\"RMSE: \", np.sqrt(np.mean((test_labels-y_predicted)**2)))\n",
    "    return rf\n",
    "        \n",
    "    "
   ]
  },
  {
   "cell_type": "code",
   "execution_count": 102,
   "metadata": {},
   "outputs": [
    {
     "name": "stdout",
     "output_type": "stream",
     "text": [
      "time to train:  41.764158964157104 s\n",
      "time to predict:  0.008419036865234375 s\n",
      "RMSE:  23.119035358733445\n"
     ]
    }
   ],
   "source": [
    "rf_raw = random_forest_regressor(\"raw\", 2, 42)"
   ]
  },
  {
   "cell_type": "code",
   "execution_count": 103,
   "metadata": {},
   "outputs": [
    {
     "name": "stdout",
     "output_type": "stream",
     "text": [
      "time to train:  41.61218190193176 s\n",
      "time to predict:  0.01462411880493164 s\n",
      "RMSE:  0.38176216017145487\n"
     ]
    }
   ],
   "source": [
    "rf_normalized = random_forest_regressor(\"normalized\", 2, 42)"
   ]
  },
  {
   "cell_type": "code",
   "execution_count": 104,
   "metadata": {},
   "outputs": [
    {
     "name": "stdout",
     "output_type": "stream",
     "text": [
      "time to train:  41.849705934524536 s\n",
      "time to predict:  0.013397932052612305 s\n",
      "RMSE:  1.256570455682076\n"
     ]
    }
   ],
   "source": [
    "rf_standardized = random_forest_regressor(\"standardized\", 2, 42)"
   ]
  },
  {
   "cell_type": "code",
   "execution_count": 105,
   "metadata": {},
   "outputs": [
    {
     "name": "stdout",
     "output_type": "stream",
     "text": [
      "time to train:  41.15413999557495 s\n",
      "time to predict:  0.013397932052612305 s\n",
      "RMSE:  1.2530851102878386\n"
     ]
    }
   ],
   "source": [
    "rf_ns = random_forest_regressor(\"ns\", 2, 42)"
   ]
  },
  {
   "attachments": {},
   "cell_type": "markdown",
   "metadata": {},
   "source": [
    "### K-Nearest Neighbors (K-NN)"
   ]
  },
  {
   "cell_type": "code",
   "execution_count": 176,
   "metadata": {},
   "outputs": [],
   "source": [
    "#now try k-nn regression\n",
    "from sklearn.neighbors import KNeighborsRegressor\n",
    "def KNN_model(data_type, n_neighbors, leaf_size, random_state = 42):\n",
    "    if data_type == \"raw\":\n",
    "        train = train_data\n",
    "        train_labels = orientations_train\n",
    "        test = test_data\n",
    "        test_labels = orientations_test\n",
    "    elif data_type == \"standardized\":\n",
    "        train = train_data_standardized\n",
    "        train_labels = orientations_train_standardized\n",
    "        test = test_data_standardized\n",
    "        test_labels = orientations_test_standardized\n",
    "    elif data_type == \"normalized\":\n",
    "        train = train_data_normalized\n",
    "        train_labels = orientations_train_normalized\n",
    "        test = test_data_normalized\n",
    "        test_labels = orientations_test_normalized\n",
    "    elif data_type == \"ns\":\n",
    "        train = train_data_ns\n",
    "        train_labels = orientations_train_ns\n",
    "        test = test_data_ns\n",
    "        test_labels = orientations_test_ns\n",
    "    start = time.time()\n",
    "    knn = KNeighborsRegressor(n_neighbors=n_neighbors, leaf_size=leaf_size)\n",
    "    knn.fit(train, train_labels)\n",
    "    end = time.time()\n",
    "    print(\"time to train: \", end-start, \"s\")\n",
    "    #predict the test data\n",
    "    start = time.time()\n",
    "    y_predicted = knn.predict(test)\n",
    "    end = time.time()\n",
    "    print(\"time to predict: \", end-start, \"s\")\n",
    "    #print the root mean squared error\n",
    "    print(\"RMSE: \", np.sqrt(np.mean((test_labels-y_predicted)**2)))\n",
    "    return knn"
   ]
  },
  {
   "cell_type": "code",
   "execution_count": 177,
   "metadata": {},
   "outputs": [
    {
     "name": "stdout",
     "output_type": "stream",
     "text": [
      "time to train:  0.0025529861450195312 s\n",
      "time to predict:  1.3807270526885986 s\n",
      "RMSE:  21.898467004401407\n"
     ]
    }
   ],
   "source": [
    "knn_raw = KNN_model(\"raw\", 3, 10, 42)"
   ]
  },
  {
   "cell_type": "code",
   "execution_count": 178,
   "metadata": {},
   "outputs": [
    {
     "name": "stdout",
     "output_type": "stream",
     "text": [
      "time to train:  0.1381969451904297 s\n",
      "time to predict:  1.118708848953247 s\n",
      "RMSE:  0.3647274010785393\n"
     ]
    }
   ],
   "source": [
    "knn_normalized = KNN_model(\"normalized\", 3, 10, 42)"
   ]
  },
  {
   "cell_type": "code",
   "execution_count": 179,
   "metadata": {},
   "outputs": [
    {
     "name": "stdout",
     "output_type": "stream",
     "text": [
      "time to train:  0.1271531581878662 s\n",
      "time to predict:  1.0529909133911133 s\n",
      "RMSE:  1.1887345553719364\n"
     ]
    }
   ],
   "source": [
    "knn_standardized = KNN_model(\"standardized\", 3, 10, 42)"
   ]
  },
  {
   "cell_type": "code",
   "execution_count": 180,
   "metadata": {},
   "outputs": [
    {
     "name": "stdout",
     "output_type": "stream",
     "text": [
      "time to train:  0.12516498565673828 s\n",
      "time to predict:  1.1720399856567383 s\n",
      "RMSE:  1.1887345553719362\n"
     ]
    }
   ],
   "source": [
    "knn_ns = KNN_model(\"ns\", 3, 10, 42)"
   ]
  },
  {
   "cell_type": "code",
   "execution_count": 173,
   "metadata": {},
   "outputs": [],
   "source": [
    "#start a grid search for the best parameters\n",
    "def grid_search_KNN(data_type, train, test, train_labels, test_labels):\n",
    "    if data_type == \"raw\":\n",
    "        train = train_data\n",
    "        train_labels = orientations_train\n",
    "        test = test_data\n",
    "        test_labels = orientations_test\n",
    "    elif data_type == \"standardized\":\n",
    "        train = train_data_standardized\n",
    "        train_labels = orientations_train_standardized\n",
    "        test = test_data_standardized\n",
    "        test_labels = orientations_test_standardized\n",
    "    elif data_type == \"normalized\":\n",
    "        train = train_data_normalized\n",
    "        train_labels = orientations_train_normalized\n",
    "        test = test_data_normalized\n",
    "        test_labels = orientations_test_normalized\n",
    "    elif data_type == \"ns\":\n",
    "        train = train_data_ns\n",
    "        train_labels = orientations_train_ns\n",
    "        test = test_data_ns\n",
    "        test_labels = orientations_test_ns\n",
    "\n",
    "    n_neighbors = [1, 2, 3, 4]\n",
    "    leaf_size = [10, 20]\n",
    "    rmse_list = []\n",
    "    for n in n_neighbors:\n",
    "        for l in leaf_size:\n",
    "            knn = KNeighborsRegressor(n_neighbors=n, leaf_size=l)\n",
    "            knn.fit(train, train_labels)\n",
    "            y_predicted = knn.predict(test)\n",
    "            rmse = np.sqrt(np.mean((test_labels-y_predicted)**2))\n",
    "            print(\"n_neighbors: \", n, \"leaf_size: \", l, \"RMSE: \", rmse)\n",
    "            rmse_list.append(rmse)\n",
    "    print(\"-\"*50)\n",
    "    print(\"best rmse: \", min(rmse_list))\n",
    "    print(\"n_neighbors: \", n_neighbors[rmse_list.index(min(rmse_list))//80])\n",
    "    print(\"leaf_size: \", leaf_size[rmse_list.index(min(rmse_list))//10%8])\n",
    "    return rmse_list\n"
   ]
  },
  {
   "cell_type": "code",
   "execution_count": 174,
   "metadata": {},
   "outputs": [
    {
     "name": "stdout",
     "output_type": "stream",
     "text": [
      "n_neighbors:  1 leaf_size:  10 RMSE:  26.636326277304466\n",
      "n_neighbors:  1 leaf_size:  20 RMSE:  26.636326277304466\n",
      "n_neighbors:  2 leaf_size:  10 RMSE:  23.21615377099246\n",
      "n_neighbors:  2 leaf_size:  20 RMSE:  23.21615377099246\n",
      "n_neighbors:  3 leaf_size:  10 RMSE:  21.898467004401407\n",
      "n_neighbors:  3 leaf_size:  20 RMSE:  21.898467004401407\n",
      "n_neighbors:  4 leaf_size:  10 RMSE:  21.008498644741906\n",
      "n_neighbors:  4 leaf_size:  20 RMSE:  21.008498644741906\n",
      "--------------------------------------------------\n",
      "best rmse:  21.008498644741906\n",
      "n_neighbors:  1\n",
      "leaf_size:  10\n"
     ]
    },
    {
     "data": {
      "text/plain": [
       "[26.636326277304466,\n",
       " 26.636326277304466,\n",
       " 23.21615377099246,\n",
       " 23.21615377099246,\n",
       " 21.898467004401407,\n",
       " 21.898467004401407,\n",
       " 21.008498644741906,\n",
       " 21.008498644741906]"
      ]
     },
     "execution_count": 174,
     "metadata": {},
     "output_type": "execute_result"
    }
   ],
   "source": [
    "grid_search_KNN(\"raw\", train_data, test_data, orientations_train, orientations_test)"
   ]
  },
  {
   "cell_type": "code",
   "execution_count": 185,
   "metadata": {},
   "outputs": [
    {
     "name": "stdout",
     "output_type": "stream",
     "text": [
      "n_neighbors:  1 leaf_size:  10 RMSE:  0.44219420426517836\n",
      "n_neighbors:  1 leaf_size:  20 RMSE:  0.44219420426517836\n",
      "n_neighbors:  2 leaf_size:  10 RMSE:  0.3876193035567191\n",
      "n_neighbors:  2 leaf_size:  20 RMSE:  0.3876193035567191\n",
      "n_neighbors:  3 leaf_size:  10 RMSE:  0.3647274010785393\n",
      "n_neighbors:  3 leaf_size:  20 RMSE:  0.3647274010785393\n",
      "n_neighbors:  4 leaf_size:  10 RMSE:  0.3507158313902512\n",
      "n_neighbors:  4 leaf_size:  20 RMSE:  0.3507158313902512\n",
      "--------------------------------------------------\n",
      "best rmse:  0.3507158313902512\n",
      "n_neighbors:  1\n",
      "leaf_size:  10\n"
     ]
    },
    {
     "data": {
      "text/plain": [
       "[0.44219420426517836,\n",
       " 0.44219420426517836,\n",
       " 0.3876193035567191,\n",
       " 0.3876193035567191,\n",
       " 0.3647274010785393,\n",
       " 0.3647274010785393,\n",
       " 0.3507158313902512,\n",
       " 0.3507158313902512]"
      ]
     },
     "execution_count": 185,
     "metadata": {},
     "output_type": "execute_result"
    }
   ],
   "source": [
    "grid_search_KNN(\"normalized\", train_data_normalized, test_data_normalized, orientations_train_normalized, orientations_test_normalized)"
   ]
  }
 ],
 "metadata": {
  "kernelspec": {
   "display_name": "Python 3",
   "language": "python",
   "name": "python3"
  },
  "language_info": {
   "codemirror_mode": {
    "name": "ipython",
    "version": 3
   },
   "file_extension": ".py",
   "mimetype": "text/x-python",
   "name": "python",
   "nbconvert_exporter": "python",
   "pygments_lexer": "ipython3",
   "version": "3.10.8"
  },
  "orig_nbformat": 4,
  "vscode": {
   "interpreter": {
    "hash": "256c06ca0f29c2c6134eaf1d25b5b5fe33f36dfda22caac05cf4ab778f794e01"
   }
  }
 },
 "nbformat": 4,
 "nbformat_minor": 2
}
